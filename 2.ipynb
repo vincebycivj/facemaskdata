{
  "nbformat": 4,
  "nbformat_minor": 0,
  "metadata": {
    "colab": {
      "name": "Copy of live1.ipynb",
      "provenance": []
    },
    "kernelspec": {
      "name": "python3",
      "display_name": "Python 3"
    },
    "accelerator": "GPU"
  },
  "cells": [
    {
      "cell_type": "markdown",
      "metadata": {
        "id": "iZHeCRyvNA_s"
      },
      "source": [
        "# **1**\n",
        "\n",
        "\n",
        "\n"
      ]
    },
    {
      "cell_type": "code",
      "metadata": {
        "id": "gcA7a70N2L_Z"
      },
      "source": [
        "!nvidia-smi"
      ],
      "execution_count": null,
      "outputs": []
    },
    {
      "cell_type": "code",
      "metadata": {
        "id": "7PnqRYq_2MCP"
      },
      "source": [
        "!sed -i -e 's/\\r$//' weight.sh\n",
        "!chmod +x *.sh\n",
        "!./weight.sh"
      ],
      "execution_count": null,
      "outputs": []
    }
  ]
}